{
  "nbformat": 4,
  "nbformat_minor": 0,
  "metadata": {
    "kernelspec": {
      "name": "python3",
      "display_name": "Python 3"
    },
    "language_info": {
      "codemirror_mode": {
        "name": "ipython",
        "version": 3
      },
      "file_extension": ".py",
      "mimetype": "text/x-python",
      "name": "python",
      "nbconvert_exporter": "python",
      "pygments_lexer": "ipython3",
      "version": "3.6.10"
    },
    "colab": {
      "name": "Graph_Convolution_Network_Tox21.ipynb",
      "provenance": [],
      "toc_visible": true,
      "include_colab_link": true
    },
    "accelerator": "GPU"
  },
  "cells": [
    {
      "cell_type": "markdown",
      "metadata": {
        "id": "view-in-github",
        "colab_type": "text"
      },
      "source": [
        "<a href=\"https://colab.research.google.com/github/seyonechithrananda/generative-neural-fingerprint/blob/master/Graph_Convolution_Network_Tox21.ipynb\" target=\"_parent\"><img src=\"https://colab.research.google.com/assets/colab-badge.svg\" alt=\"Open In Colab\"/></a>"
      ]
    },
    {
      "cell_type": "markdown",
      "metadata": {
        "id": "ubFUlqz8cj1L",
        "colab_type": "text"
      },
      "source": [
        "# Tutorial Part 4: Introduction to Graph Convolutions\n",
        "\n",
        "In this tutorial, we'll be going a little deeper and learning about \"graph convolutions.\" These are one of the most powerful deep learning tools for working with molecular data. The reason for this is that molecules can be naturally viewed as graphs.\n",
        "\n",
        "![Molecular Graph](https://github.com/deepchem/deepchem/blob/master/examples/tutorials/basic_graphs.gif?raw=1)\n",
        "\n",
        "Note how standard chemical diagrams of the sort we're used to from high school lend themselves naturally to visualizing molecules as graphs. In the remainder of this tutorial, we'll dig into this relationship in significantly more detail. This will let us get an in-the guts understanding of how these systems work.\n",
        "\n",
        "## Colab\n",
        "\n",
        "This tutorial and the rest in this sequence are designed to be done in Google colab. If you'd like to open this notebook in colab, you can use the following link.\n",
        "\n",
        "[![Open In Colab](https://colab.research.google.com/assets/colab-badge.svg)](https://colab.research.google.com/github/deepchem/deepchem/blob/master/examples/tutorials/04_Introduction_to_Graph_Convolutions.ipynb)\n",
        "\n",
        "## Setup\n",
        "\n",
        "To run DeepChem within Colab, you'll need to run the following cell of installation commands. This will take about 5 minutes to run to completion and install your environment."
      ]
    },
    {
      "cell_type": "code",
      "metadata": {
        "id": "EoCLxSnBcj1N",
        "colab_type": "code",
        "colab": {
          "base_uri": "https://localhost:8080/",
          "height": 313
        },
        "outputId": "b97c4cf6-7b2f-4198-f03f-53e1f979900a"
      },
      "source": [
        "!curl -Lo conda_installer.py https://raw.githubusercontent.com/deepchem/deepchem/master/scripts/colab_install.py\n",
        "import conda_installer\n",
        "conda_installer.install()\n",
        "!/root/miniconda/bin/conda info -e\n"
      ],
      "execution_count": 1,
      "outputs": [
        {
          "output_type": "stream",
          "text": [
            "  % Total    % Received % Xferd  Average Speed   Time    Time     Time  Current\n",
            "                                 Dload  Upload   Total   Spent    Left  Speed\n",
            "\r  0     0    0     0    0     0      0      0 --:--:-- --:--:-- --:--:--     0\r100  3489  100  3489    0     0   8190      0 --:--:-- --:--:-- --:--:--  8190\n"
          ],
          "name": "stdout"
        },
        {
          "output_type": "stream",
          "text": [
            "add /root/miniconda/lib/python3.6/site-packages to PYTHONPATH\n",
            "python version: 3.6.9\n",
            "fetching installer from https://repo.continuum.io/miniconda/Miniconda3-latest-Linux-x86_64.sh\n",
            "done\n",
            "installing miniconda to /root/miniconda\n",
            "done\n",
            "installing rdkit, openmm, pdbfixer\n",
            "added conda-forge to channels\n",
            "added omnia to channels\n",
            "done\n",
            "conda packages installation finished!\n"
          ],
          "name": "stderr"
        },
        {
          "output_type": "stream",
          "text": [
            "# conda environments:\n",
            "#\n",
            "base                  *  /root/miniconda\n",
            "\n"
          ],
          "name": "stdout"
        }
      ]
    },
    {
      "cell_type": "code",
      "metadata": {
        "id": "0oZmSCIzXcA4",
        "colab_type": "code",
        "colab": {
          "base_uri": "https://localhost:8080/",
          "height": 353
        },
        "outputId": "ab83b4f1-089a-4f2e-e2fc-8b3e71bb5512"
      },
      "source": [
        "!pip install --pre deepchem\n",
        "import deepchem\n",
        "deepchem.__version__"
      ],
      "execution_count": 2,
      "outputs": [
        {
          "output_type": "stream",
          "text": [
            "Collecting deepchem\n",
            "\u001b[?25l  Downloading https://files.pythonhosted.org/packages/b5/d7/3ba15ec6f676ef4d93855d01e40cba75e231339e7d9ea403a2f53cabbab0/deepchem-2.4.0rc1.dev20200805054153.tar.gz (351kB)\n",
            "\r\u001b[K     |█                               | 10kB 18.8MB/s eta 0:00:01\r\u001b[K     |█▉                              | 20kB 1.6MB/s eta 0:00:01\r\u001b[K     |██▉                             | 30kB 1.8MB/s eta 0:00:01\r\u001b[K     |███▊                            | 40kB 2.1MB/s eta 0:00:01\r\u001b[K     |████▋                           | 51kB 2.0MB/s eta 0:00:01\r\u001b[K     |█████▋                          | 61kB 2.2MB/s eta 0:00:01\r\u001b[K     |██████▌                         | 71kB 2.4MB/s eta 0:00:01\r\u001b[K     |███████▌                        | 81kB 2.6MB/s eta 0:00:01\r\u001b[K     |████████▍                       | 92kB 2.5MB/s eta 0:00:01\r\u001b[K     |█████████▎                      | 102kB 2.7MB/s eta 0:00:01\r\u001b[K     |██████████▎                     | 112kB 2.7MB/s eta 0:00:01\r\u001b[K     |███████████▏                    | 122kB 2.7MB/s eta 0:00:01\r\u001b[K     |████████████▏                   | 133kB 2.7MB/s eta 0:00:01\r\u001b[K     |█████████████                   | 143kB 2.7MB/s eta 0:00:01\r\u001b[K     |██████████████                  | 153kB 2.7MB/s eta 0:00:01\r\u001b[K     |███████████████                 | 163kB 2.7MB/s eta 0:00:01\r\u001b[K     |███████████████▉                | 174kB 2.7MB/s eta 0:00:01\r\u001b[K     |████████████████▊               | 184kB 2.7MB/s eta 0:00:01\r\u001b[K     |█████████████████▊              | 194kB 2.7MB/s eta 0:00:01\r\u001b[K     |██████████████████▋             | 204kB 2.7MB/s eta 0:00:01\r\u001b[K     |███████████████████▋            | 215kB 2.7MB/s eta 0:00:01\r\u001b[K     |████████████████████▌           | 225kB 2.7MB/s eta 0:00:01\r\u001b[K     |█████████████████████▍          | 235kB 2.7MB/s eta 0:00:01\r\u001b[K     |██████████████████████▍         | 245kB 2.7MB/s eta 0:00:01\r\u001b[K     |███████████████████████▎        | 256kB 2.7MB/s eta 0:00:01\r\u001b[K     |████████████████████████▎       | 266kB 2.7MB/s eta 0:00:01\r\u001b[K     |█████████████████████████▏      | 276kB 2.7MB/s eta 0:00:01\r\u001b[K     |██████████████████████████      | 286kB 2.7MB/s eta 0:00:01\r\u001b[K     |███████████████████████████     | 296kB 2.7MB/s eta 0:00:01\r\u001b[K     |████████████████████████████    | 307kB 2.7MB/s eta 0:00:01\r\u001b[K     |█████████████████████████████   | 317kB 2.7MB/s eta 0:00:01\r\u001b[K     |█████████████████████████████▉  | 327kB 2.7MB/s eta 0:00:01\r\u001b[K     |██████████████████████████████▊ | 337kB 2.7MB/s eta 0:00:01\r\u001b[K     |███████████████████████████████▊| 348kB 2.7MB/s eta 0:00:01\r\u001b[K     |████████████████████████████████| 358kB 2.7MB/s \n",
            "\u001b[?25hRequirement already satisfied: joblib in /usr/local/lib/python3.6/dist-packages (from deepchem) (0.16.0)\n",
            "Requirement already satisfied: numpy in /usr/local/lib/python3.6/dist-packages (from deepchem) (1.18.5)\n",
            "Requirement already satisfied: pandas in /usr/local/lib/python3.6/dist-packages (from deepchem) (1.0.5)\n",
            "Requirement already satisfied: scikit-learn in /usr/local/lib/python3.6/dist-packages (from deepchem) (0.22.2.post1)\n",
            "Requirement already satisfied: scipy in /usr/local/lib/python3.6/dist-packages (from deepchem) (1.4.1)\n",
            "Requirement already satisfied: python-dateutil>=2.6.1 in /usr/local/lib/python3.6/dist-packages (from pandas->deepchem) (2.8.1)\n",
            "Requirement already satisfied: pytz>=2017.2 in /usr/local/lib/python3.6/dist-packages (from pandas->deepchem) (2018.9)\n",
            "Requirement already satisfied: six>=1.5 in /usr/local/lib/python3.6/dist-packages (from python-dateutil>=2.6.1->pandas->deepchem) (1.15.0)\n",
            "Building wheels for collected packages: deepchem\n",
            "  Building wheel for deepchem (setup.py) ... \u001b[?25l\u001b[?25hdone\n",
            "  Created wheel for deepchem: filename=deepchem-2.4.0rc1.dev20200806170855-cp36-none-any.whl size=438623 sha256=4b4402662c234e9319449f954fe5496125fdfd51a260a6539c316d9b978499b2\n",
            "  Stored in directory: /root/.cache/pip/wheels/41/0f/fe/5f2659dc8e26624863654100f689d8f36cae7c872d2b310394\n",
            "Successfully built deepchem\n",
            "Installing collected packages: deepchem\n",
            "Successfully installed deepchem-2.4.0rc1.dev20200806170855\n"
          ],
          "name": "stdout"
        },
        {
          "output_type": "execute_result",
          "data": {
            "application/vnd.google.colaboratory.intrinsic+json": {
              "type": "string"
            },
            "text/plain": [
              "'2.4.0-rc1.dev'"
            ]
          },
          "metadata": {
            "tags": []
          },
          "execution_count": 2
        }
      ]
    },
    {
      "cell_type": "markdown",
      "metadata": {
        "id": "iEMqPVorcj1R",
        "colab_type": "text"
      },
      "source": [
        "Ok now that we have our environment installed, we can actually import the core `GraphConvModel` that we'll use through this tutorial."
      ]
    },
    {
      "cell_type": "code",
      "metadata": {
        "id": "Ph78CIgAcj1S",
        "colab_type": "code",
        "colab": {}
      },
      "source": [
        "import deepchem as dc\n",
        "from deepchem.models.graph_models import GraphConvModel"
      ],
      "execution_count": 3,
      "outputs": []
    },
    {
      "cell_type": "markdown",
      "metadata": {
        "id": "BX2erW0ncj1W",
        "colab_type": "text"
      },
      "source": [
        "Now, let's use the MoleculeNet suite  to load the Tox21 dataset. We need to make sure to process the data in a way that graph convolutional networks can use For that, we make sure to set the featurizer option to 'GraphConv'. The MoleculeNet call will return a training set, a validation set, and a test set for us to use. The call also returns `transformers`, a list of data transformations that were applied to preprocess the dataset. (Most deep networks are quite finicky and require a set of data transformations to ensure that training proceeds stably.)"
      ]
    },
    {
      "cell_type": "code",
      "metadata": {
        "id": "JMi2V8Jncj1W",
        "colab_type": "code",
        "colab": {
          "base_uri": "https://localhost:8080/",
          "height": 86
        },
        "outputId": "09224bc9-5a32-4ec6-c2c0-371651e27b2c"
      },
      "source": [
        "# Load Tox21 dataset\n",
        "tox21_tasks, tox21_datasets, transformers = dc.molnet.load_tox21(featurizer='GraphConv', reload=False)\n",
        "train_dataset, valid_dataset, test_dataset = tox21_datasets"
      ],
      "execution_count": 4,
      "outputs": [
        {
          "output_type": "stream",
          "text": [
            "smiles_field is deprecated and will be removed in a future version of DeepChem. Use feature_field instead.\n",
            "/usr/local/lib/python3.6/dist-packages/deepchem/data/data_loader.py:198: FutureWarning: featurize() is deprecated and has been renamed to create_dataset(). featurize() will be removed in DeepChem 3.0\n",
            "  FutureWarning)\n"
          ],
          "name": "stderr"
        }
      ]
    },
    {
      "cell_type": "markdown",
      "metadata": {
        "id": "QfMW0Y4Kcj1Z",
        "colab_type": "text"
      },
      "source": [
        "Let's now train a graph convolutional network on this dataset. DeepChem has the class `GraphConvModel` that wraps a standard graph convolutional architecture underneath the hood for user convenience. Let's instantiate an object of this class and train it on our dataset."
      ]
    },
    {
      "cell_type": "code",
      "metadata": {
        "id": "Y9n3jTNHcj1a",
        "colab_type": "code",
        "colab": {
          "base_uri": "https://localhost:8080/",
          "height": 234
        },
        "outputId": "cb42637e-d911-44ea-d867-f69e2bc54cfc"
      },
      "source": [
        "n_tasks = len(tox21_tasks)\n",
        "model = GraphConvModel(n_tasks, batch_size=50, mode='classification')\n",
        "\n",
        "num_epochs = 10\n",
        "losses = []\n",
        "for i in range(num_epochs):\n",
        " loss = model.fit(train_dataset, nb_epoch=1)\n",
        " print(\"Epoch %d loss: %f\" % (i, loss))\n",
        " losses.append(loss)"
      ],
      "execution_count": 5,
      "outputs": [
        {
          "output_type": "stream",
          "text": [
            "/usr/local/lib/python3.6/dist-packages/tensorflow/python/framework/indexed_slices.py:432: UserWarning: Converting sparse IndexedSlices to a dense Tensor of unknown shape. This may consume a large amount of memory.\n",
            "  \"Converting sparse IndexedSlices to a dense Tensor of unknown shape. \"\n"
          ],
          "name": "stderr"
        },
        {
          "output_type": "stream",
          "text": [
            "Epoch 0 loss: 0.186658\n",
            "Epoch 1 loss: 0.174587\n",
            "Epoch 2 loss: 0.173428\n",
            "Epoch 3 loss: 0.136384\n",
            "Epoch 4 loss: 0.157689\n",
            "Epoch 5 loss: 0.149113\n",
            "Epoch 6 loss: 0.149012\n",
            "Epoch 7 loss: 0.135639\n",
            "Epoch 8 loss: 0.141381\n",
            "Epoch 9 loss: 0.143671\n"
          ],
          "name": "stdout"
        }
      ]
    },
    {
      "cell_type": "markdown",
      "metadata": {
        "id": "ozuyj_umcj1c",
        "colab_type": "text"
      },
      "source": [
        "Let's plot these losses so we can take a look at how the loss changes over the process of training."
      ]
    },
    {
      "cell_type": "code",
      "metadata": {
        "id": "qbDXnYs7cj1d",
        "colab_type": "code",
        "colab": {
          "base_uri": "https://localhost:8080/",
          "height": 279
        },
        "outputId": "95b53842-46bd-4551-bc8a-7a4418c14123"
      },
      "source": [
        "import matplotlib.pyplot as plot\n",
        "\n",
        "plot.ylabel(\"Loss\")\n",
        "plot.xlabel(\"Epoch\")\n",
        "x = range(num_epochs)\n",
        "y = losses\n",
        "plot.scatter(x, y)\n",
        "plot.show()"
      ],
      "execution_count": 6,
      "outputs": [
        {
          "output_type": "display_data",
          "data": {
            "image/png": "[encoded data removed]",
            "text/plain": [
              "<Figure size 432x288 with 1 Axes>"
            ]
          },
          "metadata": {
            "tags": [],
            "needs_background": "light"
          }
        }
      ]
    },
    {
      "cell_type": "markdown",
      "metadata": {
        "id": "kDDroutEcj1g",
        "colab_type": "text"
      },
      "source": [
        "We see that the losses fall nicely and give us stable learning.\n",
        "\n",
        "Let's try to evaluate the performance of the model we've trained. For this, we need to define a metric, a measure of model performance. `dc.metrics` holds a collection of metrics already. For this dataset, it is standard to use the ROC-AUC score, the area under the receiver operating characteristic curve (which measures the tradeoff between precision and recall). Luckily, the ROC-AUC score is already available in DeepChem. \n",
        "\n",
        "To measure the performance of the model under this metric, we can use the convenience function `model.evaluate()`."
      ]
    },
    {
      "cell_type": "code",
      "metadata": {
        "id": "MeX-9RNWcj1h",
        "colab_type": "code",
        "colab": {
          "base_uri": "https://localhost:8080/",
          "height": 462
        },
        "outputId": "f86cfc3a-cac8-4c1e-a55c-5df172d5eb53"
      },
      "source": [
        "import numpy as np\n",
        "metric = dc.metrics.Metric(dc.metrics.roc_auc_score, np.mean)\n",
        "\n",
        "print(\"Evaluating model\")\n",
        "train_scores = model.evaluate(train_dataset, [metric], transformers)\n",
        "print(\"Training ROC-AUC Score: %f\" % train_scores[\"mean-roc_auc_score\"])\n",
        "valid_scores = model.evaluate(valid_dataset, [metric], transformers)\n",
        "print(\"Validation ROC-AUC Score: %f\" % valid_scores[\"mean-roc_auc_score\"])"
      ],
      "execution_count": 7,
      "outputs": [
        {
          "output_type": "stream",
          "text": [
            "Evaluating model\n"
          ],
          "name": "stdout"
        },
        {
          "output_type": "stream",
          "text": [
            "n_samples is a deprecated argument which is ignored.\n",
            "n_samples is a deprecated argument which is ignored.\n",
            "n_samples is a deprecated argument which is ignored.\n",
            "n_samples is a deprecated argument which is ignored.\n",
            "n_samples is a deprecated argument which is ignored.\n",
            "n_samples is a deprecated argument which is ignored.\n",
            "n_samples is a deprecated argument which is ignored.\n",
            "n_samples is a deprecated argument which is ignored.\n",
            "n_samples is a deprecated argument which is ignored.\n",
            "n_samples is a deprecated argument which is ignored.\n",
            "n_samples is a deprecated argument which is ignored.\n",
            "n_samples is a deprecated argument which is ignored.\n",
            "n_samples is a deprecated argument which is ignored.\n",
            "n_samples is a deprecated argument which is ignored.\n",
            "n_samples is a deprecated argument which is ignored.\n",
            "n_samples is a deprecated argument which is ignored.\n",
            "n_samples is a deprecated argument which is ignored.\n",
            "n_samples is a deprecated argument which is ignored.\n",
            "n_samples is a deprecated argument which is ignored.\n",
            "n_samples is a deprecated argument which is ignored.\n",
            "n_samples is a deprecated argument which is ignored.\n",
            "n_samples is a deprecated argument which is ignored.\n",
            "n_samples is a deprecated argument which is ignored.\n",
            "n_samples is a deprecated argument which is ignored.\n"
          ],
          "name": "stderr"
        },
        {
          "output_type": "stream",
          "text": [
            "Training ROC-AUC Score: 0.883854\n",
            "Validation ROC-AUC Score: 0.761482\n"
          ],
          "name": "stdout"
        }
      ]
    },
    {
      "cell_type": "markdown",
      "metadata": {
        "id": "Wz43oG9rcj1j",
        "colab_type": "text"
      },
      "source": [
        "What's going on under the hood? Could we build `GraphConvModel` ourselves? Of course! The first step is to define the inputs to our model. Conceptually, graph convolutions just require the structure of the molecule in question and a vector of features for every atom that describes the local chemical environment. However in practice, due to TensorFlow's limitations as a general programming environment, we have to have some auxiliary information as well preprocessed.\n",
        "\n",
        "`atom_features` holds a feature vector of length 75 for each atom. The other inputs are required to support minibatching in TensorFlow. `degree_slice` is an indexing convenience that makes it easy to locate atoms from all molecules with a given degree. `membership` determines the membership of atoms in molecules (atom `i` belongs to molecule `membership[i]`). `deg_adjs` is a list that contains adjacency lists grouped by atom degree. For more details, check out the [code](https://github.com/deepchem/deepchem/blob/master/deepchem/feat/mol_graphs.py).\n",
        "\n",
        "To define feature inputs with Keras, we use the `Input` layer. Conceptually, a model is a mathematical graph composed of layer objects. `Input` layers have to be the root nodes of the graph since they consitute inputs."
      ]
    },
    {
      "cell_type": "code",
      "metadata": {
        "id": "llRfKl-gcj1k",
        "colab_type": "code",
        "colab": {}
      },
      "source": [
        "import tensorflow as tf\n",
        "import tensorflow.keras.layers as layers\n",
        "\n",
        "atom_features = layers.Input(shape=(75,))\n",
        "degree_slice = layers.Input(shape=(2,), dtype=tf.int32)\n",
        "membership = layers.Input(shape=tuple(), dtype=tf.int32)\n",
        "\n",
        "deg_adjs = []\n",
        "for i in range(0, 10 + 1):\n",
        "    deg_adj = layers.Input(shape=(i+1,), dtype=tf.int32)\n",
        "    deg_adjs.append(deg_adj)"
      ],
      "execution_count": 8,
      "outputs": []
    },
    {
      "cell_type": "markdown",
      "metadata": {
        "id": "oD2teCkKcj1m",
        "colab_type": "text"
      },
      "source": [
        "Let's now implement the body of the graph convolutional network. DeepChem has a number of layers that encode various graph operations. Namely, the `GraphConv`, `GraphPool` and `GraphGather` layers. We will also apply standard neural network layers such as `Dense` and `BatchNormalization`.\n",
        "\n",
        "The layers we're adding effect a \"feature transformation\" that will create one vector for each molecule."
      ]
    },
    {
      "cell_type": "code",
      "metadata": {
        "id": "71_E0CAUcj1n",
        "colab_type": "code",
        "colab": {
          "base_uri": "https://localhost:8080/",
          "height": 831
        },
        "outputId": "45322f22-05aa-4804-b6ff-6cdb3263ab1a"
      },
      "source": [
        "from deepchem.models.layers import GraphConv, GraphPool, GraphGather\n",
        "\n",
        "batch_size = 50\n",
        "\n",
        "gc1 = GraphConv(64, activation_fn=tf.nn.relu)([atom_features, degree_slice, membership] + deg_adjs)\n",
        "batch_norm1 = layers.BatchNormalization()(gc1)\n",
        "gp1 = GraphPool()([batch_norm1, degree_slice, membership] + deg_adjs)\n",
        "gc2 = GraphConv(64, activation_fn=tf.nn.relu)([gp1, degree_slice, membership] + deg_adjs)\n",
        "batch_norm2 = layers.BatchNormalization()(gc2)\n",
        "gp2 = GraphPool()([batch_norm2, degree_slice, membership] + deg_adjs)\n",
        "dense = layers.Dense(128, activation=tf.nn.relu)(gp2)\n",
        "batch_norm3 = layers.BatchNormalization()(dense)\n",
        "readout = GraphGather(batch_size=batch_size, activation_fn=tf.nn.tanh)([batch_norm3, degree_slice, membership] + deg_adjs)\n",
        "logits = layers.Reshape((n_tasks, 2))(layers.Dense(n_tasks*2)(readout))\n",
        "softmax = layers.Softmax()(logits)"
      ],
      "execution_count": 10,
      "outputs": [
        {
          "output_type": "error",
          "ename": "ValueError",
          "evalue": "ignored",
          "traceback": [
            "\u001b[0;31m---------------------------------------------------------------------------\u001b[0m",
            "\u001b[0;31mValueError\u001b[0m                                Traceback (most recent call last)",
            "\u001b[0;32m<ipython-input-10-e7fa2d01f05b>\u001b[0m in \u001b[0;36m<module>\u001b[0;34m()\u001b[0m\n\u001b[1;32m      3\u001b[0m \u001b[0mbatch_size\u001b[0m \u001b[0;34m=\u001b[0m \u001b[0;36m50\u001b[0m\u001b[0;34m\u001b[0m\u001b[0;34m\u001b[0m\u001b[0m\n\u001b[1;32m      4\u001b[0m \u001b[0;34m\u001b[0m\u001b[0m\n\u001b[0;32m----> 5\u001b[0;31m \u001b[0mgc1\u001b[0m \u001b[0;34m=\u001b[0m \u001b[0mGraphConv\u001b[0m\u001b[0;34m(\u001b[0m\u001b[0;36m64\u001b[0m\u001b[0;34m,\u001b[0m \u001b[0mactivation_fn\u001b[0m\u001b[0;34m=\u001b[0m\u001b[0mtf\u001b[0m\u001b[0;34m.\u001b[0m\u001b[0mnn\u001b[0m\u001b[0;34m.\u001b[0m\u001b[0mrelu\u001b[0m\u001b[0;34m)\u001b[0m\u001b[0;34m(\u001b[0m\u001b[0;34m[\u001b[0m\u001b[0matom_features\u001b[0m\u001b[0;34m,\u001b[0m \u001b[0mdegree_slice\u001b[0m\u001b[0;34m,\u001b[0m \u001b[0mmembership\u001b[0m\u001b[0;34m]\u001b[0m \u001b[0;34m+\u001b[0m \u001b[0mdeg_adjs\u001b[0m\u001b[0;34m)\u001b[0m\u001b[0;34m\u001b[0m\u001b[0;34m\u001b[0m\u001b[0m\n\u001b[0m\u001b[1;32m      6\u001b[0m \u001b[0mbatch_norm1\u001b[0m \u001b[0;34m=\u001b[0m \u001b[0mlayers\u001b[0m\u001b[0;34m.\u001b[0m\u001b[0mBatchNormalization\u001b[0m\u001b[0;34m(\u001b[0m\u001b[0;34m)\u001b[0m\u001b[0;34m(\u001b[0m\u001b[0mgc1\u001b[0m\u001b[0;34m)\u001b[0m\u001b[0;34m\u001b[0m\u001b[0;34m\u001b[0m\u001b[0m\n\u001b[1;32m      7\u001b[0m \u001b[0mgp1\u001b[0m \u001b[0;34m=\u001b[0m \u001b[0mGraphPool\u001b[0m\u001b[0;34m(\u001b[0m\u001b[0;34m)\u001b[0m\u001b[0;34m(\u001b[0m\u001b[0;34m[\u001b[0m\u001b[0mbatch_norm1\u001b[0m\u001b[0;34m,\u001b[0m \u001b[0mdegree_slice\u001b[0m\u001b[0;34m,\u001b[0m \u001b[0mmembership\u001b[0m\u001b[0;34m]\u001b[0m \u001b[0;34m+\u001b[0m \u001b[0mdeg_adjs\u001b[0m\u001b[0;34m)\u001b[0m\u001b[0;34m\u001b[0m\u001b[0;34m\u001b[0m\u001b[0m\n",
            "\u001b[0;32m/usr/local/lib/python3.6/dist-packages/tensorflow/python/keras/engine/base_layer.py\u001b[0m in \u001b[0;36m__call__\u001b[0;34m(self, *args, **kwargs)\u001b[0m\n\u001b[1;32m    924\u001b[0m     \u001b[0;32mif\u001b[0m \u001b[0m_in_functional_construction_mode\u001b[0m\u001b[0;34m(\u001b[0m\u001b[0mself\u001b[0m\u001b[0;34m,\u001b[0m \u001b[0minputs\u001b[0m\u001b[0;34m,\u001b[0m \u001b[0margs\u001b[0m\u001b[0;34m,\u001b[0m \u001b[0mkwargs\u001b[0m\u001b[0;34m,\u001b[0m \u001b[0minput_list\u001b[0m\u001b[0;34m)\u001b[0m\u001b[0;34m:\u001b[0m\u001b[0;34m\u001b[0m\u001b[0;34m\u001b[0m\u001b[0m\n\u001b[1;32m    925\u001b[0m       return self._functional_construction_call(inputs, args, kwargs,\n\u001b[0;32m--> 926\u001b[0;31m                                                 input_list)\n\u001b[0m\u001b[1;32m    927\u001b[0m \u001b[0;34m\u001b[0m\u001b[0m\n\u001b[1;32m    928\u001b[0m     \u001b[0;31m# Maintains info about the `Layer.call` stack.\u001b[0m\u001b[0;34m\u001b[0m\u001b[0;34m\u001b[0m\u001b[0;34m\u001b[0m\u001b[0m\n",
            "\u001b[0;32m/usr/local/lib/python3.6/dist-packages/tensorflow/python/keras/engine/base_layer.py\u001b[0m in \u001b[0;36m_functional_construction_call\u001b[0;34m(self, inputs, args, kwargs, input_list)\u001b[0m\n\u001b[1;32m   1115\u001b[0m           \u001b[0;32mtry\u001b[0m\u001b[0;34m:\u001b[0m\u001b[0;34m\u001b[0m\u001b[0;34m\u001b[0m\u001b[0m\n\u001b[1;32m   1116\u001b[0m             \u001b[0;32mwith\u001b[0m \u001b[0mops\u001b[0m\u001b[0;34m.\u001b[0m\u001b[0menable_auto_cast_variables\u001b[0m\u001b[0;34m(\u001b[0m\u001b[0mself\u001b[0m\u001b[0;34m.\u001b[0m\u001b[0m_compute_dtype_object\u001b[0m\u001b[0;34m)\u001b[0m\u001b[0;34m:\u001b[0m\u001b[0;34m\u001b[0m\u001b[0;34m\u001b[0m\u001b[0m\n\u001b[0;32m-> 1117\u001b[0;31m               \u001b[0moutputs\u001b[0m \u001b[0;34m=\u001b[0m \u001b[0mcall_fn\u001b[0m\u001b[0;34m(\u001b[0m\u001b[0mcast_inputs\u001b[0m\u001b[0;34m,\u001b[0m \u001b[0;34m*\u001b[0m\u001b[0margs\u001b[0m\u001b[0;34m,\u001b[0m \u001b[0;34m**\u001b[0m\u001b[0mkwargs\u001b[0m\u001b[0;34m)\u001b[0m\u001b[0;34m\u001b[0m\u001b[0;34m\u001b[0m\u001b[0m\n\u001b[0m\u001b[1;32m   1118\u001b[0m \u001b[0;34m\u001b[0m\u001b[0m\n\u001b[1;32m   1119\u001b[0m           \u001b[0;32mexcept\u001b[0m \u001b[0merrors\u001b[0m\u001b[0;34m.\u001b[0m\u001b[0mOperatorNotAllowedInGraphError\u001b[0m \u001b[0;32mas\u001b[0m \u001b[0me\u001b[0m\u001b[0;34m:\u001b[0m\u001b[0;34m\u001b[0m\u001b[0;34m\u001b[0m\u001b[0m\n",
            "\u001b[0;32m/usr/local/lib/python3.6/dist-packages/tensorflow/python/autograph/impl/api.py\u001b[0m in \u001b[0;36mwrapper\u001b[0;34m(*args, **kwargs)\u001b[0m\n\u001b[1;32m    256\u001b[0m       \u001b[0;32mexcept\u001b[0m \u001b[0mException\u001b[0m \u001b[0;32mas\u001b[0m \u001b[0me\u001b[0m\u001b[0;34m:\u001b[0m  \u001b[0;31m# pylint:disable=broad-except\u001b[0m\u001b[0;34m\u001b[0m\u001b[0;34m\u001b[0m\u001b[0m\n\u001b[1;32m    257\u001b[0m         \u001b[0;32mif\u001b[0m \u001b[0mhasattr\u001b[0m\u001b[0;34m(\u001b[0m\u001b[0me\u001b[0m\u001b[0;34m,\u001b[0m \u001b[0;34m'ag_error_metadata'\u001b[0m\u001b[0;34m)\u001b[0m\u001b[0;34m:\u001b[0m\u001b[0;34m\u001b[0m\u001b[0;34m\u001b[0m\u001b[0m\n\u001b[0;32m--> 258\u001b[0;31m           \u001b[0;32mraise\u001b[0m \u001b[0me\u001b[0m\u001b[0;34m.\u001b[0m\u001b[0mag_error_metadata\u001b[0m\u001b[0;34m.\u001b[0m\u001b[0mto_exception\u001b[0m\u001b[0;34m(\u001b[0m\u001b[0me\u001b[0m\u001b[0;34m)\u001b[0m\u001b[0;34m\u001b[0m\u001b[0;34m\u001b[0m\u001b[0m\n\u001b[0m\u001b[1;32m    259\u001b[0m         \u001b[0;32melse\u001b[0m\u001b[0;34m:\u001b[0m\u001b[0;34m\u001b[0m\u001b[0;34m\u001b[0m\u001b[0m\n\u001b[1;32m    260\u001b[0m           \u001b[0;32mraise\u001b[0m\u001b[0;34m\u001b[0m\u001b[0;34m\u001b[0m\u001b[0m\n",
            "\u001b[0;31mValueError\u001b[0m: in user code:\n\n    /usr/local/lib/python3.6/dist-packages/deepchem/models/layers.py:170 call  *\n        split_features = tf.split(atom_features, deg_slice[:, 1])\n    /usr/local/lib/python3.6/dist-packages/tensorflow/python/util/dispatch.py:201 wrapper  **\n        return target(*args, **kwargs)\n    /usr/local/lib/python3.6/dist-packages/tensorflow/python/ops/array_ops.py:2023 split\n        raise ValueError(\"Cannot infer num from shape %s\" % num_or_size_splits)\n\n    ValueError: Cannot infer num from shape Tensor(\"graph_conv_3/strided_slice:0\", shape=(None,), dtype=int32)\n"
          ]
        }
      ]
    },
    {
      "cell_type": "markdown",
      "metadata": {
        "id": "oC20PZiccj1p",
        "colab_type": "text"
      },
      "source": [
        "Let's now create the `KerasModel`. To do that we specify the inputs and outputs to the model. We also have to define a loss for the model which tells the network the objective to minimize during training."
      ]
    },
    {
      "cell_type": "code",
      "metadata": {
        "id": "31Wr0t2zcj1q",
        "colab_type": "code",
        "colab": {}
      },
      "source": [
        "inputs = [atom_features, degree_slice, membership] + deg_adjs\n",
        "outputs = [softmax]\n",
        "keras_model = tf.keras.Model(inputs=inputs, outputs=outputs)\n",
        "loss = dc.models.losses.CategoricalCrossEntropy()\n",
        "model = dc.models.KerasModel(keras_model, loss=loss)"
      ],
      "execution_count": null,
      "outputs": []
    },
    {
      "cell_type": "markdown",
      "metadata": {
        "id": "ivbKO0PTcj1s",
        "colab_type": "text"
      },
      "source": [
        "Now that we've successfully defined our graph convolutional model, we need to train it. We can call `fit()`, but we need to make sure that each minibatch of data populates all the `Input` objects that we've created. For this, we need to create a Python generator that given a batch of data generates the lists of inputs, labels, and weights whose values are Numpy arrays we'd like to use for this step of training."
      ]
    },
    {
      "cell_type": "code",
      "metadata": {
        "id": "wgk6_WBwcj1t",
        "colab_type": "code",
        "colab": {}
      },
      "source": [
        "from deepchem.metrics import to_one_hot\n",
        "from deepchem.feat.mol_graphs import ConvMol\n",
        "\n",
        "def data_generator(dataset, epochs=1, predict=False, pad_batches=True):\n",
        "  for epoch in range(epochs):\n",
        "    for ind, (X_b, y_b, w_b, ids_b) in enumerate(\n",
        "        dataset.iterbatches(\n",
        "            batch_size, pad_batches=pad_batches, deterministic=True)):\n",
        "      multiConvMol = ConvMol.agglomerate_mols(X_b)\n",
        "      inputs = [multiConvMol.get_atom_features(), multiConvMol.deg_slice, np.array(multiConvMol.membership)]\n",
        "      for i in range(1, len(multiConvMol.get_deg_adjacency_lists())):\n",
        "        inputs.append(multiConvMol.get_deg_adjacency_lists()[i])\n",
        "      labels = [to_one_hot(y_b.flatten(), 2).reshape(-1, n_tasks, 2)]\n",
        "      weights = [w_b]\n",
        "      yield (inputs, labels, weights)"
      ],
      "execution_count": null,
      "outputs": []
    },
    {
      "cell_type": "markdown",
      "metadata": {
        "id": "VSTbjm9Hcj1v",
        "colab_type": "text"
      },
      "source": [
        "Now, we can train the model using `KerasModel.fit_generator(generator)` which will use the generator we've defined to train the model."
      ]
    },
    {
      "cell_type": "code",
      "metadata": {
        "id": "59WW4rhwcj1w",
        "colab_type": "code",
        "colab": {}
      },
      "source": [
        "num_epochs = 10\n",
        "losses = []\n",
        "for i in range(num_epochs):\n",
        "  loss = model.fit_generator(data_generator(train_dataset, epochs=1))\n",
        "  print(\"Epoch %d loss: %f\" % (i, loss))\n",
        "  losses.append(loss)"
      ],
      "execution_count": null,
      "outputs": []
    },
    {
      "cell_type": "markdown",
      "metadata": {
        "id": "4KKBu75ccj1z",
        "colab_type": "text"
      },
      "source": [
        "Let's now plot these losses and take a quick look."
      ]
    },
    {
      "cell_type": "code",
      "metadata": {
        "id": "SaPi5y8icj11",
        "colab_type": "code",
        "colab": {}
      },
      "source": [
        "plot.title(\"Keras Version\")\n",
        "plot.ylabel(\"Loss\")\n",
        "plot.xlabel(\"Epoch\")\n",
        "x = range(num_epochs)\n",
        "y = losses\n",
        "plot.scatter(x, y)\n",
        "plot.show()"
      ],
      "execution_count": null,
      "outputs": []
    },
    {
      "cell_type": "markdown",
      "metadata": {
        "id": "skrL9YEEcj13",
        "colab_type": "text"
      },
      "source": [
        "Now that we have trained our graph convolutional method, let's evaluate its performance. We again have to use our defined generator to evaluate model performance."
      ]
    },
    {
      "cell_type": "code",
      "metadata": {
        "scrolled": true,
        "id": "f3prNsgGcj14",
        "colab_type": "code",
        "colab": {}
      },
      "source": [
        "metric = dc.metrics.Metric(dc.metrics.roc_auc_score, np.mean)\n",
        "\n",
        "def reshape_y_pred(y_true, y_pred):\n",
        "    \"\"\"\n",
        "    GraphConv always pads batches, so we need to remove the predictions\n",
        "    for the padding samples.  Also, it outputs two values for each task\n",
        "    (probabilities of positive and negative), but we only want the positive\n",
        "    probability.\n",
        "    \"\"\"\n",
        "    n_samples = len(y_true)\n",
        "    return y_pred[:n_samples, :, 1]\n",
        "    \n",
        "\n",
        "print(\"Evaluating model\")\n",
        "train_predictions = model.predict_on_generator(data_generator(train_dataset, predict=True))\n",
        "train_predictions = reshape_y_pred(train_dataset.y, train_predictions)\n",
        "train_scores = metric.compute_metric(train_dataset.y, train_predictions, train_dataset.w)\n",
        "print(\"Training ROC-AUC Score: %f\" % train_scores)\n",
        "\n",
        "valid_predictions = model.predict_on_generator(data_generator(valid_dataset, predict=True))\n",
        "valid_predictions = reshape_y_pred(valid_dataset.y, valid_predictions)\n",
        "valid_scores = metric.compute_metric(valid_dataset.y, valid_predictions, valid_dataset.w)\n",
        "print(\"Valid ROC-AUC Score: %f\" % valid_scores)"
      ],
      "execution_count": null,
      "outputs": []
    },
    {
      "cell_type": "markdown",
      "metadata": {
        "id": "tvOYgj52cj16",
        "colab_type": "text"
      },
      "source": [
        "Success! The model we've constructed behaves nearly identically to `GraphConvModel`. If you're looking to build your own custom models, you can follow the example we've provided here to do so. We hope to see exciting constructions from your end soon!"
      ]
    }
  ]
}